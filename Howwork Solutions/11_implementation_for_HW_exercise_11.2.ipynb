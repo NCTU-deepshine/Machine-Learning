{
 "cells": [
  {
   "cell_type": "code",
   "execution_count": 1,
   "metadata": {
    "collapsed": true
   },
   "outputs": [],
   "source": [
    "import numpy as np\n",
    "import matplotlib.pyplot as plt\n",
    "%matplotlib inline"
   ]
  },
  {
   "cell_type": "code",
   "execution_count": 2,
   "metadata": {
    "collapsed": false
   },
   "outputs": [
    {
     "name": "stdout",
     "output_type": "stream",
     "text": [
      "N_o: 5\n",
      "K_o: 2\n",
      "\n",
      "N_e: 5\n",
      "K_e: 4\n"
     ]
    }
   ],
   "source": [
    "data = np.array([0,1,0,0,1,1,0,1,1,1])\n",
    "\n",
    "# odd and even mixed up due to 0-based counting\n",
    "odd = data[0::2]\n",
    "N_o = odd.size\n",
    "K_o = odd.sum()\n",
    "\n",
    "even = data[1::2]\n",
    "N_e = even.size\n",
    "K_e = even.sum()\n",
    "\n",
    "print 'N_o: {}'.format(N_o)\n",
    "print 'K_o: {}\\n'.format(K_o)\n",
    "\n",
    "print 'N_e: {}'.format(N_e)\n",
    "print 'K_e: {}'.format(K_e)"
   ]
  },
  {
   "cell_type": "code",
   "execution_count": 3,
   "metadata": {
    "collapsed": false
   },
   "outputs": [],
   "source": [
    "def one_step(theta, N_o, K_o, N_e, K_e):\n",
    "    numerator = 0.5**(N_o - N_e) * theta**K_e * (1 - theta)**(N_e - K_e) * K_e + theta**K_o * (1 - theta)**(N_o - K_o) * K_o\n",
    "    denominator = 0.5**(N_o - N_e) * theta**K_e * (1 - theta)**(N_e - K_e) * N_e + theta**K_o * (1 - theta)**(N_o - K_o) * N_o\n",
    "    return numerator / denominator"
   ]
  },
  {
   "cell_type": "code",
   "execution_count": 4,
   "metadata": {
    "collapsed": false
   },
   "outputs": [],
   "source": [
    "thetas = [0.5]\n",
    "\n",
    "tolerance = 1e-6\n",
    "change = np.inf\n",
    "\n",
    "while change > tolerance:\n",
    "    thetas.append(one_step(thetas[-1], N_o, K_o, N_e, K_e))\n",
    "    change = np.abs(thetas[-2] - thetas[-1])"
   ]
  },
  {
   "cell_type": "code",
   "execution_count": 5,
   "metadata": {
    "collapsed": false
   },
   "outputs": [
    {
     "name": "stdout",
     "output_type": "stream",
     "text": [
      "theta converges to 0.76578\n"
     ]
    },
    {
     "data": {
      "image/png": "[encoded data removed]",
      "text/plain": [
       "<matplotlib.figure.Figure at 0x6d21dd8>"
      ]
     },
     "metadata": {},
     "output_type": "display_data"
    }
   ],
   "source": [
    "plt.plot(thetas, '^')\n",
    "plt.title('EM homework: Coin example')\n",
    "plt.xlabel('No. of updates')\n",
    "plt.ylabel('Value of theta')\n",
    "\n",
    "print 'theta converges to {}'.format(np.round(thetas[-1], decimals=5))"
   ]
  }
 ],
 "metadata": {
  "kernelspec": {
   "display_name": "Python 2",
   "language": "python",
   "name": "python2"
  },
  "language_info": {
   "codemirror_mode": {
    "name": "ipython",
    "version": 2
   },
   "file_extension": ".py",
   "mimetype": "text/x-python",
   "name": "python",
   "nbconvert_exporter": "python",
   "pygments_lexer": "ipython2",
   "version": "2.7.11"
  }
 },
 "nbformat": 4,
 "nbformat_minor": 0
}
