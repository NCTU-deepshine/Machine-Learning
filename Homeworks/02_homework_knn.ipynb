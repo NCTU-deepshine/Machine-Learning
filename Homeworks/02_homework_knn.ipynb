{
 "cells": [
  {
   "cell_type": "markdown",
   "metadata": {},
   "source": [
    "# Implementation exercise: k-NN"
   ]
  },
  {
   "cell_type": "code",
   "execution_count": null,
   "metadata": {
    "collapsed": false
   },
   "outputs": [],
   "source": [
    "import random\n",
    "import numpy as np\n",
    "import operator\n",
    "from sklearn import datasets\n",
    "import matplotlib.pyplot as plt\n",
    "%matplotlib inline  "
   ]
  },
  {
   "cell_type": "markdown",
   "metadata": {},
   "source": [
    "## Load dataset\n",
    "The iris data set (https://en.wikipedia.org/wiki/Iris_flower_data_set) it loaded by the function loadDataset.\n",
    "\n",
    "Arguments:\n",
    "\n",
    "* *split*: int: Split rate between test and training set e.g. 0.67 corresponds to 1/3 test and 2/3 validation\n",
    "\n",
    "Returns:\n",
    "\n",
    "* *X*: list(array of length 4); Trainig data\n",
    "* *Z*: list(int); Training labels\n",
    "* *XT*: list(array of length 4); Test data\n",
    "* *ZT*: list(int); Test labels"
   ]
  },
  {
   "cell_type": "code",
   "execution_count": null,
   "metadata": {
    "collapsed": false
   },
   "outputs": [],
   "source": [
    "def loadDataset(split, X=[] , XT=[], Z = [], ZT = []):\n",
    "    dataset = datasets.load_iris()\n",
    "    c = list(zip(dataset['data'], dataset['target']))\n",
    "    random.seed(224)\n",
    "    random.shuffle(c)\n",
    "    x, t = zip(*c)\n",
    "    sp = int(split*len(c))\n",
    "    X = x[:sp]\n",
    "    XT = x[sp:]\n",
    "    Z = t[:sp]\n",
    "    ZT = t[sp:]\n",
    "    return X, XT, Z, ZT"
   ]
  },
  {
   "cell_type": "code",
   "execution_count": null,
   "metadata": {
    "collapsed": false
   },
   "outputs": [],
   "source": [
    "# prepare data\n",
    "split = 0.67\n",
    "X, XT, Z, ZT = loadDataset(split)"
   ]
  },
  {
   "cell_type": "markdown",
   "metadata": {},
   "source": [
    "## Plot dataset\n",
    "Since *X* is dimentionality 4, 16 scatterplots (4x4) are plotted showing the dependencies of each two features."
   ]
  },
  {
   "cell_type": "code",
   "execution_count": null,
   "metadata": {
    "collapsed": false
   },
   "outputs": [],
   "source": [
    "Xa = np.asarray(X)\n",
    "f, axes = plt.subplots(4, 4,figsize=(15, 15))\n",
    "for i in range(4):\n",
    "    for j in range(4):\n",
    "        if j == 0 and i == 0:\n",
    "            axes[i,j].text(0.5, 0.5, 'Sepal. length', ha='center', va='center', size=24, alpha=.5)\n",
    "        elif j == 1 and i == 1:\n",
    "            axes[i,j].text(0.5, 0.5, 'Sepal. width', ha='center', va='center', size=24, alpha=.5)\n",
    "        elif j == 2 and i == 2:\n",
    "            axes[i,j].text(0.5, 0.5, 'Petal. length', ha='center', va='center', size=24, alpha=.5)\n",
    "        elif j == 3 and i == 3:\n",
    "            axes[i,j].text(0.5, 0.5, 'Petal. width', ha='center', va='center', size=24, alpha=.5)\n",
    "        else:\n",
    "            axes[i,j].scatter(Xa[:,j],Xa[:,i], c = Z, cmap=plt.cm.cool)"
   ]
  },
  {
   "cell_type": "markdown",
   "metadata": {},
   "source": [
    "## Exercise 1: Euclidean distance\n",
    "Compute euclidean distance between two data points.\n",
    "\n",
    "arguments:\n",
    "* *x1*: array of length 4; data point\n",
    "* *x2*: array of length 4; data point\n",
    "\n",
    "returns:\n",
    "* *distance*: float; euclidean distance between *x1* and *x2* "
   ]
  },
  {
   "cell_type": "code",
   "execution_count": null,
   "metadata": {
    "collapsed": false
   },
   "outputs": [],
   "source": [
    "def euclideanDistance(x1, x2):\n",
    "    return 0"
   ]
  },
  {
   "cell_type": "markdown",
   "metadata": {},
   "source": [
    "## Exercise 2: get k nearest neighbors\n",
    "For one data point xt compute all k nearest neighbors.\n",
    "\n",
    "arguments:\n",
    "* *X*: list(array of length 4); Trainig data\n",
    "* *Z*: list(int); Training labels\n",
    "* *xt*: array of length 4; Test data point\n",
    "\n",
    "returns:\n",
    "* neighbors: list of length *k* of tuples (X_neighbor, Z_neighbor, distance between neighbor and xt); **this is the list of k nearest neighbors to xt**"
   ]
  },
  {
   "cell_type": "code",
   "execution_count": null,
   "metadata": {
    "collapsed": false
   },
   "outputs": [],
   "source": [
    "def getNeighbors(X, Z, xt, k):\n",
    "    return []"
   ]
  },
  {
   "cell_type": "markdown",
   "metadata": {},
   "source": [
    "## Exercise 3: get neighbor response\n",
    "For the previously computed k nearest neighbors compute the actual response. I.e. give back the class of the majority of nearest neighbors. What do you do with a tie?\n",
    "\n",
    "arguments:\n",
    "* neighbors: list((array, int, float)\n",
    "* c: int; number of classes in the dataset, for the iris dataset c=3\n",
    "\n",
    "returns\n",
    "* y: int; majority target"
   ]
  },
  {
   "cell_type": "code",
   "execution_count": null,
   "metadata": {
    "collapsed": false
   },
   "outputs": [],
   "source": [
    "def getResponse(neighbors, c=3):\n",
    "    classVotes = [0] * c\n",
    "    return 0"
   ]
  },
  {
   "cell_type": "markdown",
   "metadata": {},
   "source": [
    "## Exercise 4: Compute accuracy\n",
    "\n",
    "arguments:\n",
    "* YT: list(int); predicted targets\n",
    "* ZT: list(int); actual targets\n",
    "\n",
    "returns:\n",
    "* accuracy: float; percentage of correctly classified test data points"
   ]
  },
  {
   "cell_type": "code",
   "execution_count": null,
   "metadata": {
    "collapsed": false
   },
   "outputs": [],
   "source": [
    "def getAccuracy(YT, ZT):\n",
    "    return 0"
   ]
  },
  {
   "cell_type": "code",
   "execution_count": null,
   "metadata": {
    "collapsed": false
   },
   "outputs": [],
   "source": [
    "def predict(X, Z, XT, k):\n",
    "    Y=[]\n",
    "    for xt in XT:\n",
    "        neighbors = getNeighbors(X, Z, xt, k)\n",
    "        Y.append(getResponse(neighbors))\n",
    "    return Y"
   ]
  },
  {
   "cell_type": "markdown",
   "metadata": {},
   "source": [
    "## Testing\n",
    "Should output an accuracy of 0.95999999999999996."
   ]
  },
  {
   "cell_type": "code",
   "execution_count": null,
   "metadata": {
    "collapsed": false
   },
   "outputs": [],
   "source": [
    "# prepare data\n",
    "split = 0.67\n",
    "X, XT, Z, ZT = loadDataset(split)\n",
    "print 'Train set: ' + repr(len(X))\n",
    "print 'Test set: ' + repr(len(XT))\n",
    "# generate predictions\n",
    "k = 3\n",
    "YT = predict(X, Z, XT, k)\n",
    "accuracy = getAccuracy(YT, ZT)\n",
    "print('Accuracy: ' + repr(accuracy))"
   ]
  },
  {
   "cell_type": "code",
   "execution_count": null,
   "metadata": {
    "collapsed": true
   },
   "outputs": [],
   "source": []
  }
 ],
 "metadata": {
  "kernelspec": {
   "display_name": "Python 2",
   "language": "python",
   "name": "python2"
  },
  "language_info": {
   "codemirror_mode": {
    "name": "ipython",
    "version": 2
   },
   "file_extension": ".py",
   "mimetype": "text/x-python",
   "name": "python",
   "nbconvert_exporter": "python",
   "pygments_lexer": "ipython2",
   "version": "2.7.12"
  }
 },
 "nbformat": 4,
 "nbformat_minor": 0
}
